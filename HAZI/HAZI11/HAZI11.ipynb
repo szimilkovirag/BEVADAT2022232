{
 "cells": [
  {
   "cell_type": "code",
   "execution_count": 8,
   "metadata": {},
   "outputs": [],
   "source": [
    "\n",
    "import tensorflow as tf\n",
    "import numpy as np\n",
    "\n",
    "'''\n",
    "Készíts egy metódust ami a cifar100 adatbázisból betölti a train és test adatokat. (tf.keras.datasets.cifar100.load_data())\n",
    "Majd a tanitó, és tesztelő adatokat normalizálja, és vissza is tér velük.\n",
    "\n",
    "\n",
    "Egy példa a kimenetre: train_images, train_labels, test_images, test_labels\n",
    "függvény neve: cifar100_data\n",
    "'''\n",
    "def cifar100_data():\n",
    "    (train_images, train_labels), (test_images, test_labels) = tf.keras.datasets.cifar100.load_data()\n",
    "\n",
    "    train_images = train_images / 255.0\n",
    "    test_images = test_images / 255.0\n",
    "\n",
    "    return train_images, train_labels, test_images, test_labels"
   ]
  },
  {
   "cell_type": "code",
   "execution_count": 3,
   "metadata": {},
   "outputs": [],
   "source": [
    "'''\n",
    "Készíts egy konvolúciós neurális hálót, ami képes felismerni a képen mi van a 100 osztály közül.\n",
    "A háló kimenete legyen 100 elemű, és a softmax aktivációs függvényt használja.\n",
    "Hálon belül tetszőleges számú réteg lehet..\n",
    "\n",
    "\n",
    "Egy példa a kimenetre: model,\n",
    "return type: keras.engine.sequential.Sequential\n",
    "függvény neve: cifar100_model\n",
    "'''\n",
    "def cifar100_model():\n",
    "    model = tf.keras.Sequential([\n",
    "        tf.keras.layers.Flatten(input_shape=(32, 32)),\n",
    "        tf.keras.layers.Dense(128, activation='relu'),\n",
    "        tf.keras.layers.Dense(100, activation='softmax')\n",
    "    ])\n",
    "    return model"
   ]
  },
  {
   "cell_type": "code",
   "execution_count": 7,
   "metadata": {},
   "outputs": [],
   "source": [
    "'''\n",
    "Készíts egy metódust, ami a bemeneti hálot compile-olja.\n",
    "Optimizer: Adam\n",
    "Loss: SparseCategoricalCrossentropy(from_logits=False)\n",
    "\n",
    "Egy példa a bemenetre: model\n",
    "Egy példa a kimenetre: model\n",
    "return type: keras.engine.sequential.Sequential\n",
    "függvény neve: model_compile\n",
    "'''\n",
    "def model_compile(model: tf.keras.Sequential):\n",
    "    model.compile(\n",
    "        optimizer=\"adam\",\n",
    "        loss=tf.keras.losses.SparseCategoricalCrossentropy(from_logits=False),\n",
    "        metrics=['accuracy']\n",
    "    )\n",
    "    return model"
   ]
  },
  {
   "cell_type": "code",
   "execution_count": 6,
   "metadata": {},
   "outputs": [],
   "source": [
    "'''\n",
    "Készíts egy metódust, ami a bemeneti hálót feltanítja.\n",
    "\n",
    "Egy példa a bemenetre: model,epochs, train_images, train_labels\n",
    "Egy példa a kimenetre: model\n",
    "return type: keras.engine.sequential.Sequential\n",
    "függvény neve: model_fit\n",
    "'''\n",
    "def model_fit(model: tf.keras.Sequential, epochs, train_images, train_labelsz):\n",
    "    model.fit(train_images, train_labelsz, epochs=epochs)\n",
    "    return model"
   ]
  },
  {
   "cell_type": "code",
   "execution_count": 5,
   "metadata": {},
   "outputs": [],
   "source": [
    "'''\n",
    "Készíts egy metódust, ami a bemeneti hálót kiértékeli a teszt adatokon.\n",
    "\n",
    "Egy példa a bemenetre: model, test_images, test_labels\n",
    "Egy példa a kimenetre: test_loss, test_acc\n",
    "return type: float, float\n",
    "függvény neve: model_evaluate\n",
    "'''\n",
    "def model_evaluate(model: tf.keras.Sequential, test_images, test_labels):\n",
    "    test_loss, test_acc = model.evaluate(test_images, test_labels)\n",
    "    return test_loss, test_acc"
   ]
  }
 ],
 "metadata": {
  "kernelspec": {
   "display_name": "Python 3",
   "language": "python",
   "name": "python3"
  },
  "language_info": {
   "codemirror_mode": {
    "name": "ipython",
    "version": 3
   },
   "file_extension": ".py",
   "mimetype": "text/x-python",
   "name": "python",
   "nbconvert_exporter": "python",
   "pygments_lexer": "ipython3",
   "version": "3.9.0"
  },
  "orig_nbformat": 4
 },
 "nbformat": 4,
 "nbformat_minor": 2
}
