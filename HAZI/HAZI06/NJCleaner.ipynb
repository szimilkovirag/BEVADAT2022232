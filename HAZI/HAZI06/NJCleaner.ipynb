{
 "cells": [
  {
   "cell_type": "code",
   "execution_count": 1,
   "metadata": {},
   "outputs": [],
   "source": [
    "import datetime\n",
    "import numpy as np\n",
    "import pandas as pd"
   ]
  },
  {
   "cell_type": "code",
   "execution_count": 5,
   "metadata": {},
   "outputs": [],
   "source": [
    "class NJCleaner():\n",
    "    def __init__(self, path):\n",
    "        self.data = pd.read_csv(path)\n",
    "\n",
    "    def order_by_scheduled_time(self):\n",
    "        return self.data.sort_values(by=['scheduled_time'])\n",
    "\n",
    "    def drop_columns_and_nan(self):\n",
    "        return self.data.drop(columns=['from', 'to']).dropna()\n",
    "\n",
    "    def convert_date_to_day(self):\n",
    "        self.data['date'] = pd.to_datetime(self.data['date'])\n",
    "        self.data['day'] = self.data['date'].dt.day_name()\n",
    "        return self.data.drop(columns=['date'])\n",
    "\n",
    "    def convert_scheduled_time_to_part_of_the_day(self):\n",
    "        self.data['scheduled_time'] = pd.to_datetime(self.data['scheduled_time'])\n",
    "        hours = self.data['scheduled_time'].dt.hour\n",
    "\n",
    "        self.data['part_of_the_day'] = hours.apply(lambda x:\n",
    "            'late_night' if 0 <= x < 4 else\n",
    "            'early_morning' if 4 <= x < 8 else\n",
    "            'morning' if 8 <= x < 12 else\n",
    "            'afternoon' if 12 <= x < 16 else\n",
    "            'evening' if 16 <= x < 20 else\n",
    "            'night')\n",
    "\n",
    "        return self.data.drop(columns=['scheduled_time'])\n",
    "\n",
    "    def convert_delay(self):\n",
    "        self.data['delay'] = np.where(self.data['delay_minutes'] >= 5.0, 1, 0)\n",
    "        return self.data\n",
    "\n",
    "    def drop_unnecessary_columns(self):\n",
    "        return self.data.drop(columns=['train_id', 'actual_time', 'delay_minutes'])\n",
    "\n",
    "    def save_first_60k(self, path):\n",
    "        self.data.head(60000).to_csv(path)\n",
    "\n",
    "    def prep_df(self, path='data/NJ.csv'):\n",
    "        self.data = self.order_by_scheduled_time()\n",
    "        self.data = self.drop_columns_and_nan()\n",
    "        self.data = self.convert_date_to_day()\n",
    "        self.data = self.convert_scheduled_time_to_part_of_the_day()\n",
    "        self.data = self.convert_delay()\n",
    "        self.data = self.drop_unnecessary_columns()\n",
    "        self.data = self.save_first_60k(path)\n",
    "\n",
    "\n",
    "\n",
    "\n",
    "\n",
    "\n",
    "nj = NJCleaner('C:/bevadat/BEVADAT2022232/HAZI/HAZI06/2018_03.csv')\n",
    "data = nj.prep_df('C:/bevadat/BEVADAT2022232/HAZI/HAZI06/NJ.csv')\n",
    "data"
   ]
  }
 ],
 "metadata": {
  "kernelspec": {
   "display_name": "Python 3",
   "language": "python",
   "name": "python3"
  },
  "language_info": {
   "codemirror_mode": {
    "name": "ipython",
    "version": 3
   },
   "file_extension": ".py",
   "mimetype": "text/x-python",
   "name": "python",
   "nbconvert_exporter": "python",
   "pygments_lexer": "ipython3",
   "version": "3.9.0"
  },
  "orig_nbformat": 4
 },
 "nbformat": 4,
 "nbformat_minor": 2
}
