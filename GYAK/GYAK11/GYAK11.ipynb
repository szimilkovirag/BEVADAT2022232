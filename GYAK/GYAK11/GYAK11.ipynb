{
 "cells": [
  {
   "attachments": {},
   "cell_type": "markdown",
   "metadata": {},
   "source": [
    "<figure style=\"text-align:center;\">\n",
    "    <img src='https://stanford.edu/~shervine/teaching/cs-230/illustrations/architecture-cnn-en.jpeg?3b7fccd728e29dc619e1bd8022bf71cf' alt='conv_archi'/>\n",
    "    <figcaption>Convolution architeture</figcaption>\n",
    "</figure>"
   ]
  },
  {
   "attachments": {},
   "cell_type": "markdown",
   "metadata": {},
   "source": [
    "<figure style=\"text-align:center;\">\n",
    "    <img src='https://stanford.edu/~shervine/teaching/cs-230/illustrations/convolution-layer-a.png?1c517e00cb8d709baf32fc3d39ebae67' alt='conv_steps'/>\n",
    "    <figcaption>Convolution steps</figcaption>\n",
    "</figure>"
   ]
  },
  {
   "attachments": {},
   "cell_type": "markdown",
   "metadata": {},
   "source": [
    "<figure style=\"text-align:center;\">\n",
    "    <img src='https://external-content.duckduckgo.com/iu/?u=http%3A%2F%2Fmedia5.datahacker.rs%2F2018%2F11%2Fsl_1.png&f=1&nofb=1&ipt=c3b8023c63b32c2415aa5c012aa6844ace80ceb2227491138f876a98a2970c12&ipo=images' alt='same_padding'/>\n",
    "    <figcaption>Padding \"same\"</figcaption>\n",
    "</figure>"
   ]
  },
  {
   "attachments": {},
   "cell_type": "markdown",
   "metadata": {},
   "source": [
    "<figure style=\"text-align:center;\">\n",
    "    <img src='https://external-content.duckduckgo.com/iu/?u=https%3A%2F%2Fharishnarayanan.org%2Fimages%2Fwriting%2Fartistic-style-transfer%2Fconv-layer.gif&f=1&nofb=1&ipt=28e17960f28895ddc6fbed415086fde4e45e446f35cc4c9a3941d9ba801bc9ea&ipo=images' alt='kernles_2'/>\n",
    "    <figcaption>Kernels</figcaption>\n",
    "</figure>"
   ]
  },
  {
   "attachments": {},
   "cell_type": "markdown",
   "metadata": {},
   "source": [
    "<figure style=\"text-align:center;\">\n",
    "    <img src='https://stanford.edu/~shervine/teaching/cs-230/illustrations/dimensions-filter-en.png?7ce161e129a392a1804a231536b59f45' alt='kernels'/>\n",
    "    <figcaption>Kernels</figcaption>\n",
    "</figure>"
   ]
  },
  {
   "attachments": {},
   "cell_type": "markdown",
   "metadata": {},
   "source": [
    "<figure style=\"text-align:center;\">\n",
    "    <img src='https://stanford.edu/~shervine/teaching/cs-230/illustrations/stride.png?36b5b2e02f7e02c3c4075a9d836c048c' alt='stride'/>\n",
    "    <figcaption>Stride</figcaption>\n",
    "</figure>"
   ]
  },
  {
   "attachments": {},
   "cell_type": "markdown",
   "metadata": {},
   "source": [
    "<figure style=\"text-align:center;\">\n",
    "    <img src='https://stanford.edu/~shervine/teaching/cs-230/illustrations/padding-valid-a.png?1f58d78612f6202ce201620919d71609' alt='padding'/>\n",
    "    <figcaption>Padding</figcaption>\n",
    "</figure>"
   ]
  },
  {
   "attachments": {},
   "cell_type": "markdown",
   "metadata": {},
   "source": [
    "<figure style=\"text-align:center;\">\n",
    "    <img src='https://stanford.edu/~shervine/teaching/cs-230/illustrations/max-pooling-a.png?711b14799d07f9306864695e2713ae07' alt='pooling'/>\n",
    "    <figcaption>Max pooling</figcaption>\n",
    "</figure>"
   ]
  },
  {
   "attachments": {},
   "cell_type": "markdown",
   "metadata": {},
   "source": [
    "<figure style=\"text-align:center;\">\n",
    "    <img src='https://external-content.duckduckgo.com/iu/?u=https%3A%2F%2Ftse2.mm.bing.net%2Fth%3Fid%3DOIP.XTqD1NfrY9HPj9rLEtXm2AHaFP%26pid%3DApi&f=1&ipt=54b81cc15356134beac1e7fced18485fd4c79c7b6a69be8c5ca3e55265d9ec81&ipo=images' alt='pooling'/>\n",
    "    <figcaption>Max pooling</figcaption>\n",
    "</figure>"
   ]
  },
  {
   "attachments": {},
   "cell_type": "markdown",
   "metadata": {},
   "source": [
    "Conv visualizer: [here](https://ezyang.github.io/convolution-visualizer/index.html) </br>\n",
    "Conv explainer: [here](https://poloclub.github.io/cnn-explainer/)<br>\n",
    "Conv nets:  [here](https://stanford.edu/~shervine/teaching/cs-230/cheatsheet-convolutional-neural-networks)<br>\n",
    "conv net [here](https://deepai.org/machine-learning-glossary-and-terms/convolutional-neural-network)<br>\n",
    "pooling [here](https://deeplizard.com/resource/pavq7noze3)<br>\n",
    "pooling [here](https://deepai.org/machine-learning-glossary-and-terms/max-pooling)<br>\n",
    "pooling [here](https://www.baeldung.com/cs/neural-networks-pooling-layers)<br>\n",
    "pooling [here](https://iq.opengenus.org/pooling-layers/)<br>"
   ]
  },
  {
   "cell_type": "code",
   "execution_count": 23,
   "metadata": {},
   "outputs": [
    {
     "name": "stdout",
     "output_type": "stream",
     "text": [
      "[[1. 1. 1. 1. 1.]\n",
      " [1. 1. 1. 1. 1.]\n",
      " [1. 1. 1. 1. 1.]\n",
      " [1. 1. 1. 1. 1.]\n",
      " [1. 1. 1. 1. 1.]]\n",
      "[[1. 1. 1.]\n",
      " [1. 1. 1.]\n",
      " [1. 1. 1.]]\n",
      "[[9. 9. 9.]\n",
      " [9. 9. 9.]\n",
      " [9. 9. 9.]]\n"
     ]
    }
   ],
   "source": [
    "import numpy as np\n",
    "\n",
    "# Hozz létre egy bemeneti \"képet\" (numpy array-t)  (5x5)\n",
    "# Az értékei legyenek 0 vagy 1\n",
    "# dtype legyen np.float32\n",
    "image = np.ones((5,5), dtype=np.float32)\n",
    "\n",
    "# Hozz létre egy kernelt (numpy array-t)(3x3)\n",
    "# Az értékei legyenek 0 vagy 1\n",
    "# dtype legyen np.float32\n",
    "kernel = np.ones((3,3), dtype=np.float32)\n",
    "\n",
    "# Mentsd el két külön változóba a létrehozott \"kép\" (5x5)\n",
    "# dimenzióinak méretét (height,width)\n",
    "image_width = image.shape[0]\n",
    "image_height = image.shape[1]\n",
    "\n",
    "# Mentsd el két külön változóba a létrehozott kernel (3x3)\n",
    "# dimenzióinak méretét (height,width)\n",
    "kernel_width = kernel.shape[0]\n",
    "kernel_height = kernel.shape[1]\n",
    "\n",
    "# Számold ki a kimeneti \"kép\" dimenzióinak a méretét\n",
    "# Padding = 0, Stride = 1\n",
    "# A magasságot és szélességet két külön változóba mentsd el\n",
    "# NOTE: használt az előbb kiszámold \"kép\" és kernel szélességet és magasságot\n",
    "p = 0\n",
    "s = 1\n",
    "out_image_width = int((image_width + 2*p - kernel_width)/s + 1)\n",
    "out_image_height = int((image_height + 2*p - kernel_height)/s + 1)\n",
    "\n",
    "# Hozz létre egy az előbb kiszámolt kimeneti \"kép\"\n",
    "# dimenziójával megegyező 0-kal feltöltött numpy array-t\n",
    "output_image = np.zeros((out_image_width, out_image_height))\n",
    "\n",
    "# Hajts végire konvolúciót a bemeneti \"képen\"\n",
    "# az eredményt az előbb létrehozott kimeneti \"képbe\" mentsd el\n",
    "# NOTE: a kimeneti \"kép\" 1 db pixel értéke a bemeneti kép n darab értékének összegéből jön létre (n = amennyi nem 0 érték van a kernelben)\n",
    "for x in range(out_image_width):\n",
    "    for y in range(out_image_height):\n",
    "        i = 0\n",
    "        for m in range(kernel_width):\n",
    "            for n in range(kernel_height):\n",
    "                i += image[x+m,y+n] * kernel[m,n]\n",
    "        output_image[x,y] = i\n",
    "\n",
    "# printeld ki a bemeneti \"képet\", kernelt és a végeredményül kapott \"képet\"\n",
    "print(image)\n",
    "print(kernel)\n",
    "print(output_image)\n",
    "\n",
    "# Ellenőrizd le, hogy tényleg jó működik a kódod (nem kell semmit írni, csak a printelt értékeket ellenőrizd le)"
   ]
  },
  {
   "cell_type": "code",
   "execution_count": 41,
   "metadata": {},
   "outputs": [],
   "source": [
    "import tensorflow as tf\n",
    "import matplotlib.pyplot as plt\n",
    "import numpy as np \n",
    "\n",
    "(train_images, train_labels), (test_images, test_labels) = tf.keras.datasets.mnist.load_data()\n",
    "train_images, test_images = train_images, test_images "
   ]
  },
  {
   "cell_type": "code",
   "execution_count": 43,
   "metadata": {},
   "outputs": [],
   "source": [
    "class ConvolutionLayer:\n",
    "    def __init__(self, kernel_num, kernel_size):\n",
    "        self.kernel_num = kernel_num\n",
    "        self.kernel_size = kernel_size\n",
    "        self.kernels = np.random.randn(kernel_num, kernel_size, kernel_size) / (kernel_size**2)\n",
    "\n",
    "    def patches_generator(self, image):\n",
    "        image_h, image_w = image.shape\n",
    "        patches = []\n",
    "        for h in range(image_h-self.kernel_size+1):\n",
    "            for w in range(image_w-self.kernel_size+1):\n",
    "                patch = image[h:h+self.kernel_size, w:w+self.kernel_size] #indexelj ki egy kernelnyi mátrixot a bemeneti képből\n",
    "                patches.append((patch, h, w))\n",
    "        return patches\n",
    "    \n",
    "    def forward(self, image):\n",
    "        image_h, image_w = image.shape\n",
    "        convolution_output = np.zeros((image_h-self.kernel_size+1, image_w-self.kernel_size+1, self.kernel_num))\n",
    "        for patch, h, w in self.patches_generator(image):\n",
    "            convolution_output[h,w] = np.sum(patch*kernel, axis=[1,2])      #Végezd el a konvolúciós lépést\n",
    "        return convolution_output,self.kernels"
   ]
  },
  {
   "cell_type": "code",
   "execution_count": 44,
   "metadata": {},
   "outputs": [],
   "source": [
    "def plot_convolution_output(convolution_output, kernels, title=None):\n",
    "    nrows, ncols = 2, (convolution_output.shape[-1] + 1) // 2\n",
    "\n",
    "    fig, axes = plt.subplots(nrows=nrows, ncols=ncols*2, figsize=(15, 6))\n",
    "\n",
    "    for i in range(nrows):\n",
    "        for j in range(ncols):\n",
    "            idx = i * ncols + j\n",
    "            if idx < convolution_output.shape[-1]:\n",
    "                # Plot the kernel\n",
    "                axes[i, j * 2].imshow(kernels[idx], cmap='viridis')\n",
    "                axes[i, j * 2].set_xticks([])\n",
    "                axes[i, j * 2].set_yticks([])\n",
    "                axes[i, j * 2].set_title(f'Kernel {idx + 1}')\n",
    "\n",
    "                # Plot the corresponding convolution output\n",
    "                axes[i, j * 2 + 1].imshow(convolution_output[:, :, idx], cmap='viridis')\n",
    "                axes[i, j * 2 + 1].set_xticks([])\n",
    "                axes[i, j * 2 + 1].set_yticks([])\n",
    "                axes[i, j * 2 + 1].set_title(f'Conv Output {idx + 1}')\n",
    "            else:\n",
    "                axes[i, j * 2].axis('off')\n",
    "                axes[i, j * 2 + 1].axis('off')\n",
    "\n",
    "    if title:\n",
    "        fig.suptitle(title)\n",
    "\n",
    "    plt.show()"
   ]
  },
  {
   "cell_type": "code",
   "execution_count": 45,
   "metadata": {},
   "outputs": [
    {
     "ename": "TypeError",
     "evalue": "'list' object cannot be interpreted as an integer",
     "output_type": "error",
     "traceback": [
      "\u001b[1;31m---------------------------------------------------------------------------\u001b[0m",
      "\u001b[1;31mTypeError\u001b[0m                                 Traceback (most recent call last)",
      "Cell \u001b[1;32mIn[45], line 9\u001b[0m\n\u001b[0;32m      7\u001b[0m \u001b[39mfor\u001b[39;00m index \u001b[39min\u001b[39;00m \u001b[39mrange\u001b[39m(n):\n\u001b[0;32m      8\u001b[0m     plt\u001b[39m.\u001b[39mimshow(train_images[index])\n\u001b[1;32m----> 9\u001b[0m     features,kernels \u001b[39m=\u001b[39m conv\u001b[39m.\u001b[39;49mforward(train_images[index])\n\u001b[0;32m     10\u001b[0m     plot_convolution_output(features,kernels)\n",
      "Cell \u001b[1;32mIn[43], line 20\u001b[0m, in \u001b[0;36mConvolutionLayer.forward\u001b[1;34m(self, image)\u001b[0m\n\u001b[0;32m     18\u001b[0m convolution_output \u001b[39m=\u001b[39m np\u001b[39m.\u001b[39mzeros((image_h\u001b[39m-\u001b[39m\u001b[39mself\u001b[39m\u001b[39m.\u001b[39mkernel_size\u001b[39m+\u001b[39m\u001b[39m1\u001b[39m, image_w\u001b[39m-\u001b[39m\u001b[39mself\u001b[39m\u001b[39m.\u001b[39mkernel_size\u001b[39m+\u001b[39m\u001b[39m1\u001b[39m, \u001b[39mself\u001b[39m\u001b[39m.\u001b[39mkernel_num))\n\u001b[0;32m     19\u001b[0m \u001b[39mfor\u001b[39;00m patch, h, w \u001b[39min\u001b[39;00m \u001b[39mself\u001b[39m\u001b[39m.\u001b[39mpatches_generator(image):\n\u001b[1;32m---> 20\u001b[0m     convolution_output[h,w] \u001b[39m=\u001b[39m np\u001b[39m.\u001b[39;49msum(patch\u001b[39m*\u001b[39;49mkernel, axis\u001b[39m=\u001b[39;49m[\u001b[39m1\u001b[39;49m,\u001b[39m2\u001b[39;49m])      \u001b[39m#Végezd el a konvolúciós lépést\u001b[39;00m\n\u001b[0;32m     21\u001b[0m \u001b[39mreturn\u001b[39;00m convolution_output,\u001b[39mself\u001b[39m\u001b[39m.\u001b[39mkernels\n",
      "File \u001b[1;32m<__array_function__ internals>:180\u001b[0m, in \u001b[0;36msum\u001b[1;34m(*args, **kwargs)\u001b[0m\n",
      "File \u001b[1;32m~\\AppData\\Roaming\\Python\\Python39\\site-packages\\numpy\\core\\fromnumeric.py:2298\u001b[0m, in \u001b[0;36msum\u001b[1;34m(a, axis, dtype, out, keepdims, initial, where)\u001b[0m\n\u001b[0;32m   2295\u001b[0m         \u001b[39mreturn\u001b[39;00m out\n\u001b[0;32m   2296\u001b[0m     \u001b[39mreturn\u001b[39;00m res\n\u001b[1;32m-> 2298\u001b[0m \u001b[39mreturn\u001b[39;00m _wrapreduction(a, np\u001b[39m.\u001b[39;49madd, \u001b[39m'\u001b[39;49m\u001b[39msum\u001b[39;49m\u001b[39m'\u001b[39;49m, axis, dtype, out, keepdims\u001b[39m=\u001b[39;49mkeepdims,\n\u001b[0;32m   2299\u001b[0m                       initial\u001b[39m=\u001b[39;49minitial, where\u001b[39m=\u001b[39;49mwhere)\n",
      "File \u001b[1;32m~\\AppData\\Roaming\\Python\\Python39\\site-packages\\numpy\\core\\fromnumeric.py:86\u001b[0m, in \u001b[0;36m_wrapreduction\u001b[1;34m(obj, ufunc, method, axis, dtype, out, **kwargs)\u001b[0m\n\u001b[0;32m     83\u001b[0m         \u001b[39melse\u001b[39;00m:\n\u001b[0;32m     84\u001b[0m             \u001b[39mreturn\u001b[39;00m reduction(axis\u001b[39m=\u001b[39maxis, out\u001b[39m=\u001b[39mout, \u001b[39m*\u001b[39m\u001b[39m*\u001b[39mpasskwargs)\n\u001b[1;32m---> 86\u001b[0m \u001b[39mreturn\u001b[39;00m ufunc\u001b[39m.\u001b[39mreduce(obj, axis, dtype, out, \u001b[39m*\u001b[39m\u001b[39m*\u001b[39mpasskwargs)\n",
      "\u001b[1;31mTypeError\u001b[0m: 'list' object cannot be interpreted as an integer"
     ]
    },
    {
     "data": {
      "image/png": "[encoded data removed]",
      "text/plain": [
       "<Figure size 640x480 with 1 Axes>"
      ]
     },
     "metadata": {},
     "output_type": "display_data"
    }
   ],
   "source": [
    "n = 5\n",
    "kernel_num = 6\n",
    "kernel_size = 3\n",
    "\n",
    "conv = ConvolutionLayer(kernel_num=kernel_num,kernel_size=kernel_size)\n",
    "\n",
    "for index in range(n):\n",
    "    plt.imshow(train_images[index])\n",
    "    features,kernels = conv.forward(train_images[index])\n",
    "    plot_convolution_output(features,kernels)"
   ]
  }
 ],
 "metadata": {
  "kernelspec": {
   "display_name": "Python 3",
   "language": "python",
   "name": "python3"
  },
  "language_info": {
   "codemirror_mode": {
    "name": "ipython",
    "version": 3
   },
   "file_extension": ".py",
   "mimetype": "text/x-python",
   "name": "python",
   "nbconvert_exporter": "python",
   "pygments_lexer": "ipython3",
   "version": "3.9.0"
  },
  "orig_nbformat": 4
 },
 "nbformat": 4,
 "nbformat_minor": 2
}
