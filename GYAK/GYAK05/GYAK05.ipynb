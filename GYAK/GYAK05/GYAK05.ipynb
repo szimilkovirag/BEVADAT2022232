{
 "cells": [
  {
   "cell_type": "code",
   "execution_count": 17,
   "metadata": {},
   "outputs": [],
   "source": [
    "import numpy as np\n",
    "from typing import Tuple\n",
    "from scipy.stats import mode\n",
    "from sklearn.metrics import confusion_matrix\n",
    "import seaborn as sns"
   ]
  },
  {
   "cell_type": "code",
   "execution_count": 2,
   "metadata": {},
   "outputs": [],
   "source": [
    "def load_csv(csv_path) -> Tuple[np.ndarray, np.ndarray]:\n",
    "    np.random.seed(42)\n",
    "    dataset = np.genfromtxt(csv_path, delimiter=',')\n",
    "    np.random.shuffle(dataset)\n",
    "    x, y = dataset[:, :-1], dataset[:, -1]\n",
    "\n",
    "    return x, y"
   ]
  },
  {
   "cell_type": "code",
   "execution_count": 3,
   "metadata": {},
   "outputs": [
    {
     "data": {
      "text/plain": [
       "((150, 4), (150,))"
      ]
     },
     "execution_count": 3,
     "metadata": {},
     "output_type": "execute_result"
    }
   ],
   "source": [
    "x, y = load_csv('C:/bevadat/BEVADAT2022232/GYAK/GYAK05/iris.csv')\n",
    "x.shape, y.shape"
   ]
  },
  {
   "cell_type": "code",
   "execution_count": 4,
   "metadata": {},
   "outputs": [
    {
     "data": {
      "text/plain": [
       "(array([nan, nan, nan, nan]), 0.6666666666666666)"
      ]
     },
     "execution_count": 4,
     "metadata": {},
     "output_type": "execute_result"
    }
   ],
   "source": [
    "np.mean(x, axis=0), np.var(y, axis=0)"
   ]
  },
  {
   "cell_type": "code",
   "execution_count": 5,
   "metadata": {},
   "outputs": [
    {
     "data": {
      "text/plain": [
       "(array([ 355.46503497, -280.09189189,    2.95      ,   21.74726027]),\n",
       " array([1.73561968e+07, 1.18405444e+07, 1.51049922e+04, 6.11729208e+04]))"
      ]
     },
     "execution_count": 5,
     "metadata": {},
     "output_type": "execute_result"
    }
   ],
   "source": [
    "np.nanmean(x, axis=0), np.nanvar(x, axis=0)"
   ]
  },
  {
   "cell_type": "code",
   "execution_count": 6,
   "metadata": {},
   "outputs": [],
   "source": [
    "x[np.isnan(x)] = 3.5 #hiányzó értékek lekezelése"
   ]
  },
  {
   "cell_type": "code",
   "execution_count": 7,
   "metadata": {},
   "outputs": [
    {
     "data": {
      "text/plain": [
       "((144, 4), (144,))"
      ]
     },
     "execution_count": 7,
     "metadata": {},
     "output_type": "execute_result"
    }
   ],
   "source": [
    "y = np.delete(y, np.where(x < 0.0)[0], axis=0)\n",
    "y = np.delete(y, np.where(x > 10.0)[0], axis=0)\n",
    "x = np.delete(x, np.where(x < 0.0)[0], axis=0)\n",
    "x = np.delete(x, np.where(x > 10.0)[0], axis=0)\n",
    "x.shape, y.shape"
   ]
  },
  {
   "cell_type": "code",
   "execution_count": 27,
   "metadata": {},
   "outputs": [],
   "source": [
    "def train_set_split(features:np.ndarray, labels:np.ndarray, test_split_ratio:float) -> Tuple[np.ndarray, np.ndarray, np.ndarray, np.ndarray]:\n",
    "    test_size = int(len(features) * test_split_ratio)\n",
    "    train_size = len(features) - test_size\n",
    "    assert len(features) == test_size + train_size, 'Size mismatch!'\n",
    "\n",
    "    x_train, y_train = features[:train_size, :], labels[:train_size]\n",
    "    x_test, y_test = features[train_size:, :], labels[train_size:]\n",
    "\n",
    "    return x_train, y_train, x_test, y_test"
   ]
  },
  {
   "cell_type": "code",
   "execution_count": 29,
   "metadata": {},
   "outputs": [
    {
     "data": {
      "text/plain": [
       "(array([[6.1, 2.8, 4.7, 1.2],\n",
       "        [5.7, 3.8, 1.7, 0.3],\n",
       "        [7.7, 2.6, 6.9, 2.3],\n",
       "        [6. , 2.9, 4.5, 1.5],\n",
       "        [5.4, 3.4, 1.5, 0.4],\n",
       "        [5.6, 2.9, 3.6, 1.3],\n",
       "        [6.9, 3.1, 5.1, 2.3],\n",
       "        [6.2, 2.2, 4.5, 1.5],\n",
       "        [5.8, 2.7, 3.9, 1.2],\n",
       "        [6.5, 3.2, 5.1, 2. ],\n",
       "        [4.8, 3. , 1.4, 0.1],\n",
       "        [5.5, 3.5, 3.5, 0.2],\n",
       "        [4.9, 3.1, 1.5, 0.1],\n",
       "        [6.3, 3.3, 4.7, 1.6],\n",
       "        [6.5, 3. , 5.8, 2.2],\n",
       "        [5.6, 2.5, 3.9, 1.1],\n",
       "        [3.5, 2.8, 4.5, 3.5],\n",
       "        [6.4, 3.5, 5.6, 2.2],\n",
       "        [4.7, 3.2, 1.6, 0.2],\n",
       "        [6.1, 3. , 4.9, 1.8],\n",
       "        [5. , 3.4, 1.6, 0.4],\n",
       "        [6.4, 2.8, 5.6, 2.1],\n",
       "        [7.9, 3.8, 6.4, 2. ],\n",
       "        [6.7, 3. , 5.2, 2.3],\n",
       "        [6.7, 2.5, 5.8, 1.8],\n",
       "        [4.8, 3.1, 1.6, 0.2],\n",
       "        [4.6, 3.6, 1. , 0.2],\n",
       "        [5.7, 4.4, 1.5, 0.4],\n",
       "        [6.7, 3.1, 4.4, 1.4],\n",
       "        [3.5, 3.4, 1.6, 0.2],\n",
       "        [4.4, 3.2, 1.3, 0.2],\n",
       "        [6.3, 2.5, 5. , 1.9],\n",
       "        [6.4, 3.2, 4.5, 1.5],\n",
       "        [5.2, 3.5, 1.5, 0.2],\n",
       "        [5. , 3.6, 1.4, 0.2],\n",
       "        [5.2, 4.1, 1.5, 0.1],\n",
       "        [5.8, 2.7, 5.1, 1.9],\n",
       "        [6. , 3.4, 4.5, 1.6],\n",
       "        [6.7, 3.1, 4.7, 1.5],\n",
       "        [5.4, 3.9, 1.3, 0.4],\n",
       "        [5.4, 3.7, 1.5, 0.2],\n",
       "        [5.5, 2.4, 3.7, 1. ],\n",
       "        [6.3, 2.8, 5.1, 1.5],\n",
       "        [6.4, 3.1, 5.5, 1.8],\n",
       "        [6.6, 3. , 4.4, 1.4],\n",
       "        [7.2, 3.6, 6.1, 2.5],\n",
       "        [5.7, 2.9, 4.2, 1.3],\n",
       "        [7.6, 3. , 6.6, 2.1],\n",
       "        [3.5, 3. , 4.5, 1.5],\n",
       "        [5.1, 3.5, 1.4, 0.2],\n",
       "        [7.7, 2.8, 6.7, 2. ],\n",
       "        [5.8, 2.7, 4.1, 1. ],\n",
       "        [5.2, 3.4, 1.4, 0.2],\n",
       "        [5. , 3.5, 1.3, 0.3],\n",
       "        [5.1, 3.8, 1.9, 0.4],\n",
       "        [5. , 2. , 3.5, 1. ],\n",
       "        [6.3, 2.7, 4.9, 1.8],\n",
       "        [4.8, 3.4, 1.9, 0.2],\n",
       "        [3.5, 3.3, 1.7, 0.5],\n",
       "        [5.6, 2.7, 3.5, 1.3],\n",
       "        [5.1, 3.4, 1.5, 0.2],\n",
       "        [5.7, 3. , 4.2, 1.2],\n",
       "        [7.7, 3.8, 6.7, 2.2],\n",
       "        [4.6, 3.2, 1.4, 0.2],\n",
       "        [6.2, 2.9, 4.3, 1.3],\n",
       "        [5.7, 2.5, 5. , 2. ],\n",
       "        [5.5, 4.2, 1.4, 0.2],\n",
       "        [6. , 3. , 4.8, 3.5],\n",
       "        [5.8, 2.7, 5.1, 1.9],\n",
       "        [6. , 2.2, 4. , 1. ],\n",
       "        [5.4, 3. , 4.5, 1.5],\n",
       "        [3.5, 3.4, 5.4, 2.3],\n",
       "        [5.5, 2.3, 4. , 1.3],\n",
       "        [5.4, 3.9, 1.7, 3.5],\n",
       "        [5. , 2.3, 3.3, 1. ],\n",
       "        [6.4, 2.7, 5.3, 1.9],\n",
       "        [5. , 3.3, 1.4, 0.2],\n",
       "        [5. , 3.2, 1.2, 0.2],\n",
       "        [5.5, 2.4, 3.8, 1.1],\n",
       "        [6.7, 3. , 5. , 1.7],\n",
       "        [4.9, 3.1, 1.5, 0.1],\n",
       "        [5.8, 2.8, 5.1, 2.4],\n",
       "        [5. , 3.4, 1.5, 0.2],\n",
       "        [5. , 3.5, 1.6, 0.6],\n",
       "        [5.9, 3.2, 4.8, 1.8],\n",
       "        [5.1, 2.5, 3. , 1.1],\n",
       "        [6.9, 3.2, 5.7, 2.3],\n",
       "        [6. , 2.7, 5.1, 1.6],\n",
       "        [6.1, 2.6, 5.6, 1.4],\n",
       "        [7.7, 3. , 6.1, 2.3],\n",
       "        [5.5, 2.5, 4. , 1.3],\n",
       "        [4.4, 2.9, 1.4, 0.2],\n",
       "        [4.3, 3. , 1.1, 0.1],\n",
       "        [6. , 2.2, 5. , 1.5],\n",
       "        [7.2, 3.2, 6. , 1.8],\n",
       "        [4.6, 3.1, 1.5, 0.2],\n",
       "        [5.1, 3.5, 1.4, 0.3],\n",
       "        [4.4, 3. , 1.3, 0.2],\n",
       "        [6.3, 2.5, 4.9, 1.5],\n",
       "        [6.3, 3.4, 5.6, 2.4],\n",
       "        [4.6, 3.4, 1.4, 0.3],\n",
       "        [6.8, 3. , 5.5, 2.1],\n",
       "        [6.3, 3.3, 6. , 2.5],\n",
       "        [4.7, 3.2, 1.3, 0.2],\n",
       "        [6.1, 2.9, 4.7, 1.4],\n",
       "        [6.5, 2.8, 4.6, 1.5],\n",
       "        [6.2, 2.8, 4.8, 1.8],\n",
       "        [7. , 3.2, 4.7, 1.4],\n",
       "        [6.4, 3.2, 5.3, 2.3],\n",
       "        [5.1, 3.8, 1.6, 0.2],\n",
       "        [6.9, 3.1, 5.4, 2.1],\n",
       "        [5.9, 3. , 4.2, 1.5],\n",
       "        [6.5, 3. , 5.2, 2. ],\n",
       "        [5.7, 2.6, 3.5, 3.5],\n",
       "        [5.2, 2.7, 3.9, 1.4],\n",
       "        [3.5, 3. , 4.6, 1.4]]),\n",
       " array([1., 0., 2., 1., 0., 1., 2., 1., 1., 2., 0., 0., 0., 0., 2., 1., 1.,\n",
       "        2., 0., 2., 0., 2., 2., 2., 2., 2., 0., 0., 1., 0., 0., 2., 1., 0.,\n",
       "        0., 0., 2., 1., 1., 0., 0., 1., 2., 2., 1., 2., 1., 2., 1., 0., 2.,\n",
       "        1., 0., 0., 0., 1., 2., 0., 0., 1., 0., 1., 2., 0., 1., 2., 0., 2.,\n",
       "        2., 1., 1., 2., 1., 0., 1., 2., 0., 0., 1., 1., 0., 2., 0., 0., 1.,\n",
       "        1., 2., 1., 2., 2., 1., 0., 0., 2., 2., 0., 0., 0., 1., 2., 0., 2.,\n",
       "        2., 0., 1., 1., 2., 1., 2., 0., 2., 1., 2., 1., 1., 1.]),\n",
       " array([[4.5, 2.3, 1.3, 0.3],\n",
       "        [6.6, 2.9, 4.6, 1.3],\n",
       "        [5.5, 2.6, 4.4, 1.2],\n",
       "        [5.3, 3.7, 1.5, 0.2],\n",
       "        [5.6, 3. , 4.1, 1.3],\n",
       "        [7.3, 2.9, 6.3, 1.8],\n",
       "        [6.7, 3.3, 5.7, 2.1],\n",
       "        [5.1, 3.7, 1.5, 0.4],\n",
       "        [4.9, 2.4, 3.3, 1. ],\n",
       "        [6.7, 3.3, 5.7, 2.5],\n",
       "        [7.2, 3. , 5.8, 1.6],\n",
       "        [4.9, 3.1, 1.5, 0.1],\n",
       "        [3.5, 3.1, 5.6, 2.4],\n",
       "        [4.9, 3. , 1.4, 0.2],\n",
       "        [6.9, 3.1, 4.9, 1.5],\n",
       "        [7.4, 2.8, 6.1, 1.9],\n",
       "        [6.3, 2.9, 5.6, 1.8],\n",
       "        [5.7, 2.8, 4.1, 1.3],\n",
       "        [6.5, 3. , 5.5, 1.8],\n",
       "        [6.4, 2.9, 4.3, 1.3],\n",
       "        [5.6, 3.5, 4.9, 2. ],\n",
       "        [5.9, 3. , 5.1, 1.8],\n",
       "        [5.4, 3.4, 1.7, 0.2],\n",
       "        [6.1, 2.8, 4. , 1.3],\n",
       "        [4.9, 2.5, 4.5, 1.7],\n",
       "        [5.8, 4. , 1.2, 0.2],\n",
       "        [5.8, 2.6, 4. , 1.2],\n",
       "        [7.1, 3. , 5.9, 2.1]]),\n",
       " array([0., 1., 1., 0., 1., 2., 2., 0., 1., 2., 2., 0., 2., 0., 1., 2., 2.,\n",
       "        1., 2., 1., 2., 2., 0., 1., 2., 0., 1., 2.]))"
      ]
     },
     "execution_count": 29,
     "metadata": {},
     "output_type": "execute_result"
    }
   ],
   "source": [
    "x_train, y_train, x_test, y_test = train_set_split(x,y,0.2)\n",
    "x_train, y_train, x_test, y_test"
   ]
  },
  {
   "cell_type": "code",
   "execution_count": 12,
   "metadata": {},
   "outputs": [],
   "source": [
    "def euclidean(points:np.ndarray, element_of_x:np.ndarray) -> np.ndarray:\n",
    "    return np.sqrt(np.sum((points - element_of_x)**2, axis=1))"
   ]
  },
  {
   "cell_type": "code",
   "execution_count": 20,
   "metadata": {},
   "outputs": [],
   "source": [
    "def predict(x_train:np.ndarray, y_train:np.ndarray, x_test:np.ndarray, k:int) -> np.ndarray:\n",
    "    labels_pred = []\n",
    "    for x_test_element in x_test:\n",
    "        distances = euclidean(x_train, x_test_element)\n",
    "        distances = np.array(sorted(zip(distances, y_train)))\n",
    "\n",
    "        label_pred = mode(distances[:k, 1], keepdims=False).mode\n",
    "        labels_pred.append(label_pred)\n",
    "\n",
    "    return np.array(labels_pred, dtype=np.int64)"
   ]
  },
  {
   "cell_type": "code",
   "execution_count": 21,
   "metadata": {},
   "outputs": [
    {
     "data": {
      "text/plain": [
       "array([0, 1, 1, 0, 1, 2, 2, 0, 1, 2, 2, 0, 1, 0, 1, 2, 2, 1, 2, 1, 1, 2,\n",
       "       0, 1, 1, 0, 1, 2], dtype=int64)"
      ]
     },
     "execution_count": 21,
     "metadata": {},
     "output_type": "execute_result"
    }
   ],
   "source": [
    "y_preds = predict(x_train, y_train, x_test, 3)\n",
    "y_preds"
   ]
  },
  {
   "cell_type": "code",
   "execution_count": 22,
   "metadata": {},
   "outputs": [],
   "source": [
    "def accuracy(y_test:np.ndarray, y_preds:np.ndarray) -> float:\n",
    "    true_positive = (y_test == y_preds).sum()\n",
    "    return true_positive / len(y_test) * 100"
   ]
  },
  {
   "cell_type": "code",
   "execution_count": 24,
   "metadata": {},
   "outputs": [
    {
     "data": {
      "text/plain": [
       "89.28571428571429"
      ]
     },
     "execution_count": 24,
     "metadata": {},
     "output_type": "execute_result"
    }
   ],
   "source": [
    "num = accuracy(y_test, y_preds)\n",
    "num"
   ]
  },
  {
   "cell_type": "code",
   "execution_count": 25,
   "metadata": {},
   "outputs": [],
   "source": [
    "def plot_confusion_matrix(y_test:np.ndarray, y_preds:np.ndarray):\n",
    "    conf_matrix = confusion_matrix(y_test, y_preds)\n",
    "    sns.heatmap(conf_matrix, annot=True)"
   ]
  },
  {
   "cell_type": "code",
   "execution_count": 26,
   "metadata": {},
   "outputs": [
    {
     "data": {
      "image/png": "[encoded data removed]",
      "text/plain": [
       "<Figure size 640x480 with 2 Axes>"
      ]
     },
     "metadata": {},
     "output_type": "display_data"
    }
   ],
   "source": [
    "plot_confusion_matrix(y_test, y_preds)"
   ]
  }
 ],
 "metadata": {
  "kernelspec": {
   "display_name": "Python 3",
   "language": "python",
   "name": "python3"
  },
  "language_info": {
   "codemirror_mode": {
    "name": "ipython",
    "version": 3
   },
   "file_extension": ".py",
   "mimetype": "text/x-python",
   "name": "python",
   "nbconvert_exporter": "python",
   "pygments_lexer": "ipython3",
   "version": "3.9.0"
  },
  "orig_nbformat": 4
 },
 "nbformat": 4,
 "nbformat_minor": 2
}
